{
 "cells": [
  {
   "cell_type": "code",
   "execution_count": null,
   "metadata": {},
   "outputs": [],
   "source": []
  },
  {
   "cell_type": "code",
   "execution_count": 1,
   "metadata": {},
   "outputs": [],
   "source": [
    "class Route:\n",
    "    def __init__(self, origin: int, destination: int):\n",
    "        self.origin = origin\n",
    "        self.destination = destination\n",
    "\n",
    "    def get_best_route(self, vehicle: str) -> dict:\n",
    "        if vehicle == \"car\":\n",
    "            return {\"start_street\": self.origin, \"end_street\": self.destination, \"route\": \"Use the avenue 123\"}\n",
    "        elif vehicle == \"bike\":\n",
    "            return {\"start_street\": self.origin, \"end_street\": self.destination, \"route\": \"Use the bike lane\"}\n",
    "        return {}\n",
    "\n",
    "    def get_cost(self, vehicle: str) -> float:\n",
    "        if vehicle == \"car\":\n",
    "            return round((self.destination - self.origin) * 0.1, 2)\n",
    "        elif vehicle == \"bike\":\n",
    "            return 0\n",
    "        return 0\n",
    "\n",
    "    def get_time(self, vehicle: str) -> float:\n",
    "        if vehicle == \"car\":\n",
    "            return round((self.destination - self.origin) * 0.5, 2)\n",
    "        elif vehicle == \"bike\":\n",
    "            return round((self.destination - self.origin) * 2, 2)\n",
    "        return 0\n",
    "\n",
    "    def avg_speed(self, vehicle: str) -> float:\n",
    "        return round((self.destination - self.origin) / self.get_time(vehicle), 2)"
   ]
  },
  {
   "cell_type": "code",
   "execution_count": 2,
   "metadata": {},
   "outputs": [
    {
     "name": "stdout",
     "output_type": "stream",
     "text": [
      "{'start_street': 1, 'end_street': 10, 'route': 'Use the avenue 123'}\n"
     ]
    }
   ],
   "source": [
    "route = Route(1, 10)\n",
    "print(route.get_best_route(\"car\"))"
   ]
  },
  {
   "cell_type": "code",
   "execution_count": 3,
   "metadata": {},
   "outputs": [
    {
     "name": "stdout",
     "output_type": "stream",
     "text": [
      "{'start_street': 1, 'end_street': 10, 'route': 'Use the bike lane'}\n"
     ]
    }
   ],
   "source": [
    "route_bike = Route(1, 10)\n",
    "print(route_bike.get_best_route(\"bike\"))"
   ]
  }
 ],
 "metadata": {
  "kernelspec": {
   "display_name": ".venv",
   "language": "python",
   "name": "python3"
  },
  "language_info": {
   "codemirror_mode": {
    "name": "ipython",
    "version": 3
   },
   "file_extension": ".py",
   "mimetype": "text/x-python",
   "name": "python",
   "nbconvert_exporter": "python",
   "pygments_lexer": "ipython3",
   "version": "3.11.7"
  }
 },
 "nbformat": 4,
 "nbformat_minor": 2
}
