{
 "cells": [
  {
   "cell_type": "markdown",
   "metadata": {},
   "source": [
    "# Interfaces en Programación Orientada a Objetos\n",
    "\n",
    "Las interfaces son un concepto fundamental en la Programación Orientada a Objetos (POO) que define un contrato para las clases. Aunque Python no tiene un soporte nativo para interfaces como otros lenguajes, se pueden simular usando clases abstractas.\n",
    "\n",
    "# Las interfaces definen el qué y no el cómo\n",
    "\n",
    "## ¿Qué es una interfaz?\n",
    "\n",
    "Una interfaz es un contrato que define un conjunto de métodos que una clase debe implementar. Es decir, una interfaz define el comportamiento de un objeto sin centrarse en los detalles de cómo se implementa.\n",
    "\n",
    "## Tipos de interfaces en Python\n",
    "\n",
    "1. **Interfaces informales**: Se definen como una clase que no implementa los métodos.\n",
    "2. **Interfaces formales**: Se definen como una clase abstracta que implementa los métodos.\n",
    "\n",
    "\n",
    "## Explicación\n",
    "\n",
    "Una interfaz:\n",
    "\n",
    "1. Define un conjunto de métodos que una clase debe implementar.\n",
    "\n",
    "2. Proporciona un nivel de abstracción, permitiendo tratar objetos de diferentes clases de manera uniforme.\n",
    "\n",
    "3. Facilita el diseño de sistemas modulares y extensibles.\n",
    "\n",
    "4. Mejora la mantenibilidad del código al establecer contratos claros entre componentes."
   ]
  },
  {
   "cell_type": "markdown",
   "metadata": {},
   "source": [
    "## Ejemplos prácticos\n",
    "\n",
    "### Ejemplo 1: Interfaz sin ABC\n",
    "\n",
    "En este ejemplo:\n",
    "\n",
    "1. `InterfazAnimal` define los métodos que las clases hijas deben implementar.\n",
    "\n",
    "2. `Perro` y `Gato` implementan los métodos de la interfaz.\n",
    "\n",
    "3. `interactuar_con_animal` puede trabajar con cualquier objeto que implemente la interfaz."
   ]
  },
  {
   "cell_type": "code",
   "execution_count": 3,
   "metadata": {},
   "outputs": [],
   "source": [
    "class InterfazAnimal:\n",
    "    def hacer_sonido(self) -> str:\n",
    "        raise NotImplementedError(\"Subclass must implement abstract method\")\n",
    "\n",
    "    def moverse(self) -> str:\n",
    "        raise NotImplementedError(\"Subclass must implement abstract method\")\n",
    "\n",
    "class Perro(InterfazAnimal):\n",
    "    def hacer_sonido(self) -> str:\n",
    "        return \"Guau!\"\n",
    "\n",
    "    def moverse(self) -> str:\n",
    "        return \"El perro corre\"\n",
    "\n",
    "class Gato(InterfazAnimal):\n",
    "    def hacer_sonido(self) -> str:\n",
    "        return \"Miau!\"\n"
   ]
  },
  {
   "cell_type": "code",
   "execution_count": 6,
   "metadata": {},
   "outputs": [
    {
     "name": "stdout",
     "output_type": "stream",
     "text": [
      "Guau!\n",
      "El perro corre\n"
     ]
    }
   ],
   "source": [
    "def interactuar_con_animal(animal: InterfazAnimal) -> None:\n",
    "    print(animal.hacer_sonido())\n",
    "    print(animal.moverse())\n",
    "\n",
    "perro: Perro = Perro()\n",
    "\n",
    "interactuar_con_animal(animal=perro)"
   ]
  },
  {
   "cell_type": "code",
   "execution_count": 7,
   "metadata": {},
   "outputs": [
    {
     "name": "stdout",
     "output_type": "stream",
     "text": [
      "Miau!\n"
     ]
    },
    {
     "ename": "NotImplementedError",
     "evalue": "Subclass must implement abstract method",
     "output_type": "error",
     "traceback": [
      "\u001b[0;31m---------------------------------------------------------------------------\u001b[0m",
      "\u001b[0;31mNotImplementedError\u001b[0m                       Traceback (most recent call last)",
      "Cell \u001b[0;32mIn[7], line 2\u001b[0m\n\u001b[1;32m      1\u001b[0m gato: Gato \u001b[38;5;241m=\u001b[39m Gato()\n\u001b[0;32m----> 2\u001b[0m \u001b[43minteractuar_con_animal\u001b[49m\u001b[43m(\u001b[49m\u001b[43manimal\u001b[49m\u001b[38;5;241;43m=\u001b[39;49m\u001b[43mgato\u001b[49m\u001b[43m)\u001b[49m\n",
      "Cell \u001b[0;32mIn[6], line 3\u001b[0m, in \u001b[0;36minteractuar_con_animal\u001b[0;34m(animal)\u001b[0m\n\u001b[1;32m      1\u001b[0m \u001b[38;5;28;01mdef\u001b[39;00m \u001b[38;5;21minteractuar_con_animal\u001b[39m(animal: InterfazAnimal) \u001b[38;5;241m-\u001b[39m\u001b[38;5;241m>\u001b[39m \u001b[38;5;28;01mNone\u001b[39;00m:\n\u001b[1;32m      2\u001b[0m     \u001b[38;5;28mprint\u001b[39m(animal\u001b[38;5;241m.\u001b[39mhacer_sonido())\n\u001b[0;32m----> 3\u001b[0m     \u001b[38;5;28mprint\u001b[39m(\u001b[43manimal\u001b[49m\u001b[38;5;241;43m.\u001b[39;49m\u001b[43mmoverse\u001b[49m\u001b[43m(\u001b[49m\u001b[43m)\u001b[49m)\n",
      "Cell \u001b[0;32mIn[3], line 6\u001b[0m, in \u001b[0;36mInterfazAnimal.moverse\u001b[0;34m(self)\u001b[0m\n\u001b[1;32m      5\u001b[0m \u001b[38;5;28;01mdef\u001b[39;00m \u001b[38;5;21mmoverse\u001b[39m(\u001b[38;5;28mself\u001b[39m) \u001b[38;5;241m-\u001b[39m\u001b[38;5;241m>\u001b[39m \u001b[38;5;28mstr\u001b[39m:\n\u001b[0;32m----> 6\u001b[0m     \u001b[38;5;28;01mraise\u001b[39;00m \u001b[38;5;167;01mNotImplementedError\u001b[39;00m(\u001b[38;5;124m\"\u001b[39m\u001b[38;5;124mSubclass must implement abstract method\u001b[39m\u001b[38;5;124m\"\u001b[39m)\n",
      "\u001b[0;31mNotImplementedError\u001b[0m: Subclass must implement abstract method"
     ]
    }
   ],
   "source": [
    "gato: Gato = Gato()\n",
    "interactuar_con_animal(animal=gato)"
   ]
  },
  {
   "cell_type": "markdown",
   "metadata": {},
   "source": [
    "### Ejemplo 2: Interfaz con ABC\n",
    "\n",
    "En este ejemplo:\n",
    "\n",
    "1. `InterfazVehiculo` usa `ABC` y `@abstractmethod` para definir una interfaz más estricta.\n",
    "\n",
    "2. `Carro` y `Bicicleta` implementan correctamente la interfaz.\n",
    "\n",
    "3. `VehiculoIncompleto` no implementa todos los métodos, lo que resulta en un error al instanciar."
   ]
  },
  {
   "cell_type": "code",
   "execution_count": 11,
   "metadata": {},
   "outputs": [],
   "source": [
    "from abc import ABC, abstractmethod\n",
    "\n",
    "class InterfazVehiculo(ABC):\n",
    "    @abstractmethod\n",
    "    def acelerar(self) -> str:\n",
    "        pass\n",
    "\n",
    "    @abstractmethod\n",
    "    def frenar(self) -> str:\n",
    "        pass\n",
    "\n",
    "class Carro(InterfazVehiculo):\n",
    "    def acelerar(self) -> str:\n",
    "        return \"El carro acelera\"\n",
    "\n",
    "    def frenar(self) -> str:\n",
    "        return \"El carro frena\"\n",
    "\n",
    "class Bicicleta(InterfazVehiculo):\n",
    "    def acelerar(self) -> str:\n",
    "        return \"La bicicleta pedalea más rápido\"\n",
    "\n",
    "    def frenar(self) -> str:\n",
    "        return \"La bicicleta frena\""
   ]
  },
  {
   "cell_type": "code",
   "execution_count": 12,
   "metadata": {},
   "outputs": [
    {
     "name": "stdout",
     "output_type": "stream",
     "text": [
      "El carro acelera\n",
      "El carro frena\n",
      "La bicicleta pedalea más rápido\n",
      "La bicicleta frena\n"
     ]
    }
   ],
   "source": [
    "def probar_vehiculo(vehiculo: InterfazVehiculo) -> None:\n",
    "    print(vehiculo.acelerar())\n",
    "    print(vehiculo.frenar())\n",
    "\n",
    "carro: Carro = Carro()\n",
    "bicicleta: Bicicleta = Bicicleta()\n",
    "\n",
    "probar_vehiculo(vehiculo=carro)\n",
    "probar_vehiculo(vehiculo=bicicleta)"
   ]
  },
  {
   "cell_type": "code",
   "execution_count": 13,
   "metadata": {},
   "outputs": [
    {
     "name": "stdout",
     "output_type": "stream",
     "text": [
      "Error: Can't instantiate abstract class VehiculoIncompleto with abstract method frenar\n"
     ]
    }
   ],
   "source": [
    "# Esto causará un error\n",
    "class VehiculoIncompleto(InterfazVehiculo):\n",
    "    def acelerar(self) -> str:\n",
    "        return \"Acelerando\"\n",
    "    # No se implementa el método frenar()\n",
    "\n",
    "try:\n",
    "    vehiculo_incompleto = VehiculoIncompleto()\n",
    "except TypeError as e:\n",
    "    print(f\"Error: {e}\")"
   ]
  },
  {
   "cell_type": "markdown",
   "metadata": {},
   "source": [
    "## Explicación detallada\n",
    "\n",
    "### Interfaces sin ABC:\n",
    "\n",
    "- Son más flexibles pero menos estrictas.\n",
    "\n",
    "- No impiden la creación de instancias de clases que no implementan todos los métodos.\n",
    "\n",
    "- Los errores se detectan en tiempo de ejecución.\n",
    "\n",
    "### Interfaces con ABC:\n",
    "\n",
    "- Proporcionan una forma más robusta de definir interfaces.\n",
    "\n",
    "- Impiden la instanciación de clases que no implementan todos los métodos abstractos.\n",
    "\n",
    "- Los errores se detectan al intentar crear una instancia, no al llamar a un método."
   ]
  },
  {
   "cell_type": "markdown",
   "metadata": {},
   "source": [
    "## Por qué usar interfaces\n",
    "\n",
    "1. **Abstracción**: Permiten trabajar con conceptos de alto nivel sin preocuparse por los detalles de implementación.\n",
    "\n",
    "2. **Polimorfismo**: Facilitan el tratamiento uniforme de objetos de diferentes clases.\n",
    "\n",
    "3. **Diseño modular**: Ayudan a crear sistemas más flexibles y fáciles de extender.\n",
    "\n",
    "4. **Contratos claros**: Establecen expectativas claras sobre el comportamiento de las clases."
   ]
  },
  {
   "cell_type": "markdown",
   "metadata": {},
   "source": [
    "## Conclusión\n",
    "\n",
    "Las interfaces en Python, ya sea mediante clases abstractas simples o usando el módulo `abc`, son una herramienta poderosa en la POO:\n",
    "\n",
    "- Proporcionan una forma de definir contratos para las clases.\n",
    "\n",
    "- Mejoran la estructura y el diseño del código.\n",
    "\n",
    "- Facilitan la creación de sistemas extensibles y mantenibles.\n",
    "\n",
    "- Promueven buenas prácticas de programación como el principio de sustitución de Liskov.\n",
    "\n",
    "Aunque Python no tiene interfaces nativas, las técnicas mostradas permiten lograr resultados similares. El uso de `ABC` y `@abstractmethod` ofrece un enfoque más robusto y cercano a las interfaces tradicionales, mientras que las interfaces sin ABC proporcionan una solución más flexible pero menos estricta.\n",
    "\n",
    "En el desarrollo de software moderno, las interfaces son cruciales para crear sistemas bien estructurados y fáciles de mantener. Son especialmente útiles en proyectos grandes o en el desarrollo de bibliotecas y frameworks donde la claridad y la consistencia son esenciales."
   ]
  }
 ],
 "metadata": {
  "kernelspec": {
   "display_name": ".venv",
   "language": "python",
   "name": "python3"
  },
  "language_info": {
   "codemirror_mode": {
    "name": "ipython",
    "version": 3
   },
   "file_extension": ".py",
   "mimetype": "text/x-python",
   "name": "python",
   "nbconvert_exporter": "python",
   "pygments_lexer": "ipython3",
   "version": "3.11.7"
  }
 },
 "nbformat": 4,
 "nbformat_minor": 2
}
